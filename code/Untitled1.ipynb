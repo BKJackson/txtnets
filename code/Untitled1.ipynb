{
 "metadata": {
  "name": "",
  "signature": "sha256:7431184f4d65a0a23008d7e62e9ce79b48a5f645d82fc97cab04be6013f0f54d"
 },
 "nbformat": 3,
 "nbformat_minor": 0,
 "worksheets": [
  {
   "cells": [
    {
     "cell_type": "code",
     "collapsed": false,
     "input": [
      "import cPickle as pickle"
     ],
     "language": "python",
     "metadata": {},
     "outputs": [],
     "prompt_number": 1
    },
    {
     "cell_type": "code",
     "collapsed": false,
     "input": [
      "with open(\"/Users/mdenil/model_89.248.pkl\") as model_file:\n",
      "    print pickle.load(model_file)"
     ],
     "language": "python",
     "metadata": {},
     "outputs": [
      {
       "output_type": "stream",
       "stream": "stdout",
       "text": [
        "CSM {\n",
        "DictionaryEncoding(vocabulary_size=29493)\n",
        "WordEmbedding(dim=10, vocab_size=29493)\n",
        "Dropout(R=0.2)\n",
        "SentenceConvolution(W=(60, 5))\n",
        "Bias(n_input_dims=1, n_feature_maps=6)\n",
        "KMaxPooling(k=4, k_dynamic=None)\n",
        "Tanh()\n",
        "ReshapeForDocuments()\n",
        "SentenceConvolution(W=(360, 5))\n",
        "Bias(n_input_dims=1, n_feature_maps=15)\n",
        "KMaxPooling(k=2, k_dynamic=None)\n",
        "Tanh()\n",
        "Dropout(R=0.5)\n",
        "Softmax(W=(30, 2), b=(1, 2))\n",
        "}\n"
       ]
      }
     ],
     "prompt_number": 2
    },
    {
     "cell_type": "code",
     "collapsed": false,
     "input": [
      "print 29493*10 + 60*5 + "
     ],
     "language": "python",
     "metadata": {},
     "outputs": []
    }
   ],
   "metadata": {}
  }
 ]
}